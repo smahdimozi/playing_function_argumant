{
 "cells": [
  {
   "cell_type": "code",
   "execution_count": 1,
   "id": "31abf4bf-a197-418a-a899-f50b5426f47b",
   "metadata": {},
   "outputs": [],
   "source": [
    "mystr = \"parsa is smart student in python\""
   ]
  },
  {
   "cell_type": "code",
   "execution_count": 7,
   "id": "33634320-ad42-4092-9017-3b375cb8e5b0",
   "metadata": {},
   "outputs": [],
   "source": [
    "hash_mystr = hash(mystr)"
   ]
  },
  {
   "cell_type": "code",
   "execution_count": null,
   "id": "567266c7-f2d5-4948-9149-8d68a5d43970",
   "metadata": {},
   "outputs": [],
   "source": []
  },
  {
   "cell_type": "code",
   "execution_count": null,
   "id": "559c0eac-2c90-4833-8e63-5d6c27f979ed",
   "metadata": {},
   "outputs": [],
   "source": []
  },
  {
   "cell_type": "code",
   "execution_count": 148,
   "id": "126512c3-8a6b-45d2-a057-d53a695af68b",
   "metadata": {},
   "outputs": [],
   "source": [
    "def func(a, b, c):\n",
    "    print(a,b,c)"
   ]
  },
  {
   "cell_type": "code",
   "execution_count": 20,
   "id": "b024fe29-f23a-4d16-a619-3fe30e54a6c1",
   "metadata": {},
   "outputs": [],
   "source": [
    "func(1, 2 ,3 )"
   ]
  },
  {
   "cell_type": "code",
   "execution_count": 18,
   "id": "c92b6ff9-b0d7-47af-abc6-f9f02f755d91",
   "metadata": {},
   "outputs": [
    {
     "ename": "TypeError",
     "evalue": "func() takes 3 positional arguments but 4 were given",
     "output_type": "error",
     "traceback": [
      "\u001b[1;31m---------------------------------------------------------------------------\u001b[0m",
      "\u001b[1;31mTypeError\u001b[0m                                 Traceback (most recent call last)",
      "Cell \u001b[1;32mIn[18], line 1\u001b[0m\n\u001b[1;32m----> 1\u001b[0m func(\u001b[38;5;241m1\u001b[39m, \u001b[38;5;241m2\u001b[39m , \u001b[38;5;241m3\u001b[39m , \u001b[38;5;241m5\u001b[39m)\n",
      "\u001b[1;31mTypeError\u001b[0m: func() takes 3 positional arguments but 4 were given"
     ]
    }
   ],
   "source": [
    "func(1, 2 , 3 , 5)"
   ]
  },
  {
   "cell_type": "code",
   "execution_count": 28,
   "id": "469dc2ea-e04c-42d8-bd79-9d3a022e11d7",
   "metadata": {},
   "outputs": [
    {
     "ename": "SyntaxError",
     "evalue": "positional argument follows keyword argument (149633888.py, line 1)",
     "output_type": "error",
     "traceback": [
      "\u001b[1;36m  Cell \u001b[1;32mIn[28], line 1\u001b[1;36m\u001b[0m\n\u001b[1;33m    func(b= 6546 , c=1 , 9)\u001b[0m\n\u001b[1;37m                          ^\u001b[0m\n\u001b[1;31mSyntaxError\u001b[0m\u001b[1;31m:\u001b[0m positional argument follows keyword argument\n"
     ]
    }
   ],
   "source": [
    "func(b= 6546 , c=1 , 9)"
   ]
  },
  {
   "cell_type": "code",
   "execution_count": 30,
   "id": "c841952a-c9f2-4b14-b459-ff35df819afa",
   "metadata": {},
   "outputs": [],
   "source": [
    "func(c=654,b=654,a=68579)"
   ]
  },
  {
   "cell_type": "code",
   "execution_count": 34,
   "id": "3a17a80d-1af9-42c5-984d-e9a46c51f680",
   "metadata": {},
   "outputs": [],
   "source": [
    "func(6354645, b=674,c=987)"
   ]
  },
  {
   "cell_type": "code",
   "execution_count": 42,
   "id": "aa6dd172-a088-4a05-811d-2d587135ac6a",
   "metadata": {},
   "outputs": [],
   "source": [
    "def func1(a,b,c=4565):\n",
    "    print(a)\n",
    "    print(b)\n",
    "    print(c)"
   ]
  },
  {
   "cell_type": "code",
   "execution_count": 48,
   "id": "e691db72-f945-43a2-b540-2fdb284b924d",
   "metadata": {},
   "outputs": [
    {
     "name": "stdout",
     "output_type": "stream",
     "text": [
      "1\n",
      "654\n",
      "7987\n"
     ]
    }
   ],
   "source": [
    "func1(1,654,7987)"
   ]
  },
  {
   "cell_type": "code",
   "execution_count": 50,
   "id": "00776050-5c9f-4f90-9bcd-f6534db891f2",
   "metadata": {},
   "outputs": [],
   "source": [
    "def func2(name, employees=[]):\n",
    "    employees.append(name)\n",
    "    print(employees)"
   ]
  },
  {
   "cell_type": "code",
   "execution_count": 54,
   "id": "c015eb0d-77c0-406b-b1cd-b5a16ac5375f",
   "metadata": {},
   "outputs": [
    {
     "name": "stdout",
     "output_type": "stream",
     "text": [
      "['hoda', 'hoda']\n"
     ]
    }
   ],
   "source": [
    "func2('hoda')"
   ]
  },
  {
   "cell_type": "code",
   "execution_count": 64,
   "id": "ca494bff-f4d3-41c4-9059-a59ec692a07b",
   "metadata": {},
   "outputs": [],
   "source": [
    "def func3(name, employees=None):\n",
    "    if employees is None:\n",
    "        employees = []\n",
    "    employees.append(name)\n",
    "    print(employees)"
   ]
  },
  {
   "cell_type": "code",
   "execution_count": 66,
   "id": "28f3e5d0-0904-4368-a562-cdb01413136c",
   "metadata": {},
   "outputs": [
    {
     "name": "stdout",
     "output_type": "stream",
     "text": [
      "['hadi']\n"
     ]
    }
   ],
   "source": [
    "func3('hadi')"
   ]
  },
  {
   "cell_type": "code",
   "execution_count": 68,
   "id": "29f6f912-3611-4e49-bf39-5b814f641967",
   "metadata": {},
   "outputs": [],
   "source": [
    "def func4(a):\n",
    "    return"
   ]
  },
  {
   "cell_type": "code",
   "execution_count": 74,
   "id": "eae2315c-b52a-4956-9639-6a78678b8ad2",
   "metadata": {},
   "outputs": [
    {
     "name": "stdout",
     "output_type": "stream",
     "text": [
      "None\n"
     ]
    }
   ],
   "source": [
    "print(func4(10))"
   ]
  },
  {
   "cell_type": "code",
   "execution_count": 108,
   "id": "9d9436b5-041e-485e-b447-ad87692a4f64",
   "metadata": {},
   "outputs": [],
   "source": [
    "def func5(a):\n",
    "    a[0]=5454\n",
    "    return a"
   ]
  },
  {
   "cell_type": "code",
   "execution_count": 110,
   "id": "0d82c499-5bfc-4fb6-bd45-6abff5cb2548",
   "metadata": {},
   "outputs": [],
   "source": [
    "x= [1,2,3]\n",
    "y=func5(x)"
   ]
  },
  {
   "cell_type": "code",
   "execution_count": 112,
   "id": "0486df00-99df-4865-9266-93a00558a3e0",
   "metadata": {},
   "outputs": [
    {
     "data": {
      "text/plain": [
       "[5454, 2, 3]"
      ]
     },
     "execution_count": 112,
     "metadata": {},
     "output_type": "execute_result"
    }
   ],
   "source": [
    "x"
   ]
  },
  {
   "cell_type": "code",
   "execution_count": 114,
   "id": "6010a5b0-3478-4a75-a30f-bca8f26731a2",
   "metadata": {},
   "outputs": [
    {
     "data": {
      "text/plain": [
       "[5454, 2, 3]"
      ]
     },
     "execution_count": 114,
     "metadata": {},
     "output_type": "execute_result"
    }
   ],
   "source": [
    "y"
   ]
  },
  {
   "cell_type": "code",
   "execution_count": 118,
   "id": "82d36af2-0c78-41c6-9223-174cbbe572a5",
   "metadata": {},
   "outputs": [],
   "source": [
    "def func6(a):\n",
    "    b=a.copy()\n",
    "    b[0]=6546\n",
    "    return b"
   ]
  },
  {
   "cell_type": "code",
   "execution_count": 120,
   "id": "c398d709-5d1b-4c35-9c24-a1d4a22effb8",
   "metadata": {},
   "outputs": [],
   "source": [
    "q=[1,2,3]\n",
    "d=func6(q)"
   ]
  },
  {
   "cell_type": "code",
   "execution_count": 122,
   "id": "f6e2c900-f809-48e6-8007-68bdbe0e1f8a",
   "metadata": {},
   "outputs": [
    {
     "data": {
      "text/plain": [
       "[1, 2, 3]"
      ]
     },
     "execution_count": 122,
     "metadata": {},
     "output_type": "execute_result"
    }
   ],
   "source": [
    "q"
   ]
  },
  {
   "cell_type": "code",
   "execution_count": 124,
   "id": "f12b3c3b-b8eb-4ce5-9ee6-d24ea09cb6d0",
   "metadata": {},
   "outputs": [
    {
     "data": {
      "text/plain": [
       "[6546, 2, 3]"
      ]
     },
     "execution_count": 124,
     "metadata": {},
     "output_type": "execute_result"
    }
   ],
   "source": [
    "d"
   ]
  },
  {
   "cell_type": "code",
   "execution_count": 132,
   "id": "99b08829-51bf-4751-aaee-1f338e097ddc",
   "metadata": {},
   "outputs": [],
   "source": [
    " def func7(a):\n",
    "     print(a)"
   ]
  },
  {
   "cell_type": "code",
   "execution_count": 134,
   "id": "80e09d3e-745b-4db0-9da5-0fe906b2a917",
   "metadata": {},
   "outputs": [
    {
     "name": "stdout",
     "output_type": "stream",
     "text": [
      "3\n"
     ]
    }
   ],
   "source": [
    "func7(3)"
   ]
  },
  {
   "cell_type": "code",
   "execution_count": 136,
   "id": "ac95ca26-3dcf-41be-b3bc-4c03d28e174a",
   "metadata": {},
   "outputs": [],
   "source": [
    " def func8(*a):\n",
    "     print(a)"
   ]
  },
  {
   "cell_type": "code",
   "execution_count": 138,
   "id": "354732f2-d521-4e10-8010-2e87918a3ee1",
   "metadata": {},
   "outputs": [
    {
     "name": "stdout",
     "output_type": "stream",
     "text": [
      "(3,)\n"
     ]
    }
   ],
   "source": [
    "func8(3)"
   ]
  },
  {
   "cell_type": "code",
   "execution_count": 140,
   "id": "54003656-f236-4907-a34a-2e14f04b0e01",
   "metadata": {},
   "outputs": [],
   "source": [
    "def func9(a,b,*c):\n",
    "    print(a,b)\n",
    "    print(c)"
   ]
  },
  {
   "cell_type": "code",
   "execution_count": 142,
   "id": "2a7d947f-fe7c-4326-b94e-9664ce68ba70",
   "metadata": {},
   "outputs": [
    {
     "name": "stdout",
     "output_type": "stream",
     "text": [
      "1 5\n",
      "(4, 987, 6987, 12323, 54656)\n"
     ]
    }
   ],
   "source": [
    "func9(1,5,4,987,6987,12323,54656)"
   ]
  },
  {
   "cell_type": "code",
   "execution_count": 150,
   "id": "2389e2dd-b02c-45f2-a7d5-5c51e6f16e71",
   "metadata": {},
   "outputs": [],
   "source": [
    "t = (1,2,3)"
   ]
  },
  {
   "cell_type": "code",
   "execution_count": 152,
   "id": "be8a17d5-5c4d-4331-a866-080cabfbbd5c",
   "metadata": {},
   "outputs": [
    {
     "name": "stdout",
     "output_type": "stream",
     "text": [
      "1 2 3\n"
     ]
    }
   ],
   "source": [
    "func(*t)"
   ]
  },
  {
   "cell_type": "code",
   "execution_count": null,
   "id": "df2e6d21-633d-4c0f-a776-b4a10b634ec1",
   "metadata": {},
   "outputs": [],
   "source": []
  },
  {
   "cell_type": "code",
   "execution_count": 157,
   "id": "c7ec355f-4b5e-4736-827c-345330bba542",
   "metadata": {},
   "outputs": [],
   "source": [
    "def func10(**a):\n",
    "    print(a)"
   ]
  },
  {
   "cell_type": "code",
   "execution_count": 159,
   "id": "f0ce0c82-c3d2-47ab-94a0-865f41c54ec9",
   "metadata": {},
   "outputs": [
    {
     "name": "stdout",
     "output_type": "stream",
     "text": [
      "{'f': 123}\n"
     ]
    }
   ],
   "source": [
    "func10(f=123)"
   ]
  },
  {
   "cell_type": "code",
   "execution_count": 163,
   "id": "fe0f9dff-3b38-4d9a-8c0b-891aa3c5bfba",
   "metadata": {},
   "outputs": [
    {
     "ename": "SyntaxError",
     "evalue": "invalid syntax (2336435484.py, line 1)",
     "output_type": "error",
     "traceback": [
      "\u001b[1;36m  Cell \u001b[1;32mIn[163], line 1\u001b[1;36m\u001b[0m\n\u001b[1;33m    //globals()\u001b[0m\n\u001b[1;37m    ^\u001b[0m\n\u001b[1;31mSyntaxError\u001b[0m\u001b[1;31m:\u001b[0m invalid syntax\n"
     ]
    }
   ],
   "source": [
    "//globals()"
   ]
  },
  {
   "cell_type": "code",
   "execution_count": 167,
   "id": "2aee941b-e678-4af8-aec5-cb69e6325fe6",
   "metadata": {},
   "outputs": [
    {
     "ename": "SyntaxError",
     "evalue": "parameter without a default follows parameter with a default (1404098930.py, line 1)",
     "output_type": "error",
     "traceback": [
      "\u001b[1;36m  Cell \u001b[1;32mIn[167], line 1\u001b[1;36m\u001b[0m\n\u001b[1;33m    def func11(a=3, b):\u001b[0m\n\u001b[1;37m                    ^\u001b[0m\n\u001b[1;31mSyntaxError\u001b[0m\u001b[1;31m:\u001b[0m parameter without a default follows parameter with a default\n"
     ]
    }
   ],
   "source": [
    "def func11(a=3, b):\n",
    "    return a+b"
   ]
  },
  {
   "cell_type": "code",
   "execution_count": 181,
   "id": "93b1951b-65a3-4fb3-a26d-4f0ee37eeddc",
   "metadata": {},
   "outputs": [],
   "source": [
    "def func12(x,y,*args, op='+'):\n",
    "    if op == '+':\n",
    "        return x+y\n",
    "    elif op == '-':\n",
    "        return x-y\n",
    "    elif op == '/':\n",
    "        return x/y"
   ]
  },
  {
   "cell_type": "code",
   "execution_count": 183,
   "id": "d66bc2b4-75eb-4e55-812f-3eefe94cd522",
   "metadata": {},
   "outputs": [
    {
     "data": {
      "text/plain": [
       "-311"
      ]
     },
     "execution_count": 183,
     "metadata": {},
     "output_type": "execute_result"
    }
   ],
   "source": [
    "func12(12,323,4343,3434, op='-')"
   ]
  },
  {
   "cell_type": "code",
   "execution_count": 187,
   "id": "71e9ec38-52c5-4e59-8897-646d3a1e72c0",
   "metadata": {},
   "outputs": [],
   "source": [
    "def func13(x,y,*, op='+'):\n",
    "    if op == '+':\n",
    "        return x+y\n",
    "    elif op == '-':\n",
    "        return x-y\n",
    "    elif op == '/':\n",
    "        return x/y"
   ]
  },
  {
   "cell_type": "code",
   "execution_count": 191,
   "id": "53617bb2-d9c6-4b41-ada2-69227ac19ad0",
   "metadata": {},
   "outputs": [
    {
     "data": {
      "text/plain": [
       "-311"
      ]
     },
     "execution_count": 191,
     "metadata": {},
     "output_type": "execute_result"
    }
   ],
   "source": [
    "func13(12,323, op='-')"
   ]
  },
  {
   "cell_type": "code",
   "execution_count": 202,
   "id": "f99227a4-142c-497d-bb9d-9ba1cc52ea36",
   "metadata": {},
   "outputs": [],
   "source": [
    "def func14(x,/,y,*, op='+'):\n",
    "    if op == '+':\n",
    "        return x+y\n",
    "    elif op == '-':\n",
    "        return x-y\n",
    "    elif op == '/':\n",
    "        return x/y"
   ]
  },
  {
   "cell_type": "code",
   "execution_count": 204,
   "id": "b4fb8581-7bd7-4779-800c-8964445b1ae2",
   "metadata": {},
   "outputs": [
    {
     "data": {
      "text/plain": [
       "1308"
      ]
     },
     "execution_count": 204,
     "metadata": {},
     "output_type": "execute_result"
    }
   ],
   "source": [
    "func14(654, y=654)"
   ]
  },
  {
   "cell_type": "code",
   "execution_count": 206,
   "id": "0a631acd-5f07-4df3-9735-1b7dba432b2e",
   "metadata": {},
   "outputs": [
    {
     "ename": "TypeError",
     "evalue": "func14() got some positional-only arguments passed as keyword arguments: 'x'",
     "output_type": "error",
     "traceback": [
      "\u001b[1;31m---------------------------------------------------------------------------\u001b[0m",
      "\u001b[1;31mTypeError\u001b[0m                                 Traceback (most recent call last)",
      "Cell \u001b[1;32mIn[206], line 1\u001b[0m\n\u001b[1;32m----> 1\u001b[0m func14(x\u001b[38;5;241m=\u001b[39m\u001b[38;5;241m654\u001b[39m, y\u001b[38;5;241m=\u001b[39m\u001b[38;5;241m654\u001b[39m)\n",
      "\u001b[1;31mTypeError\u001b[0m: func14() got some positional-only arguments passed as keyword arguments: 'x'"
     ]
    }
   ],
   "source": [
    "func14(x=654, y=654)"
   ]
  },
  {
   "cell_type": "code",
   "execution_count": 225,
   "id": "34454579-bccc-4bd8-883b-c3d576d6ef87",
   "metadata": {},
   "outputs": [],
   "source": [
    " def func15(x,/,y,*, op='+'):\n",
    "     \"\"\"\n",
    "     this is my amazing function\n",
    "     \"\"\"\n",
    "     pass"
   ]
  },
  {
   "cell_type": "code",
   "execution_count": 229,
   "id": "f8bac8ba-ff3c-4b39-afbc-dffb5534b076",
   "metadata": {},
   "outputs": [
    {
     "name": "stdout",
     "output_type": "stream",
     "text": [
      "Help on function func15 in module __main__:\n",
      "\n",
      "func15(x, /, y, *, op='+')\n",
      "    this is my amazing function\n",
      "\n"
     ]
    }
   ],
   "source": [
    "help(func15)"
   ]
  },
  {
   "cell_type": "code",
   "execution_count": null,
   "id": "60e13d63-e5c9-4731-8483-c3f16eb8a1fd",
   "metadata": {},
   "outputs": [],
   "source": []
  }
 ],
 "metadata": {
  "kernelspec": {
   "display_name": "Python [conda env:base] *",
   "language": "python",
   "name": "conda-base-py"
  },
  "language_info": {
   "codemirror_mode": {
    "name": "ipython",
    "version": 3
   },
   "file_extension": ".py",
   "mimetype": "text/x-python",
   "name": "python",
   "nbconvert_exporter": "python",
   "pygments_lexer": "ipython3",
   "version": "3.12.7"
  }
 },
 "nbformat": 4,
 "nbformat_minor": 5
}
